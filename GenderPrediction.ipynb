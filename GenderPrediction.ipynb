{
  "nbformat": 4,
  "nbformat_minor": 0,
  "metadata": {
    "kernelspec": {
      "display_name": "Python 3",
      "language": "python",
      "name": "python3"
    },
    "language_info": {
      "codemirror_mode": {
        "name": "ipython",
        "version": 3
      },
      "file_extension": ".py",
      "mimetype": "text/x-python",
      "name": "python",
      "nbconvert_exporter": "python",
      "pygments_lexer": "ipython3",
      "version": "3.8.5"
    },
    "toc": {
      "base_numbering": 1,
      "nav_menu": {},
      "number_sections": true,
      "sideBar": true,
      "skip_h1_title": false,
      "title_cell": "Table of Contents",
      "title_sidebar": "Contents",
      "toc_cell": true,
      "toc_position": {},
      "toc_section_display": true,
      "toc_window_display": false
    },
    "colab": {
      "name": "GenderPrediction.ipynb",
      "provenance": [],
      "collapsed_sections": [
        "_7FugFpQrggV",
        "ECW3zZ69r3F9"
      ],
      "toc_visible": true
    }
  },
  "cells": [
    {
      "cell_type": "markdown",
      "metadata": {
        "toc": true,
        "id": "ERllqTLcf_1l"
      },
      "source": [
        "<h1>Table of Contents<span class=\"tocSkip\"></span></h1>\n",
        "<div class=\"toc\"><ul class=\"toc-item\"></ul></div>"
      ]
    },
    {
      "cell_type": "code",
      "metadata": {
        "id": "WTKlxO6pf_1p"
      },
      "source": [
        "import pandas as pd\n",
        "import numpy as np\n",
        "import xgboost as xgb\n",
        "import os, sys"
      ],
      "execution_count": null,
      "outputs": []
    },
    {
      "cell_type": "code",
      "metadata": {
        "id": "IhSCMLpUuvsM"
      },
      "source": [
        "import matplotlib.pyplot as plt\n",
        "from sklearn.model_selection import train_test_split, GridSearchCV\n",
        "from sklearn.metrics import accuracy_score, confusion_matrix\n",
        "from sklearn.pipeline import Pipeline\n",
        "from sklearn.preprocessing import StandardScaler\n",
        "from sklearn.linear_model import LogisticRegression\n",
        "from sklearn.ensemble import RandomForestClassifier\n",
        "from lightgbm import LGBMClassifier"
      ],
      "execution_count": null,
      "outputs": []
    },
    {
      "cell_type": "code",
      "metadata": {
        "id": "UVfKHW_Af_1q"
      },
      "source": [
        "tr_mcc_codes = pd.read_csv(filepath_or_buffer=\"/content/data/tr_mcc_codes.csv\", sep = ';')\n",
        "tr_types = pd.read_csv(filepath_or_buffer=\"/content/data/tr_types.csv\", sep=';')\n",
        "transactions = pd.read_csv(filepath_or_buffer=\"/content/transactions.csv\", sep=\",\", nrows=1000000)\n",
        "customers_gender_train = pd.read_csv(filepath_or_buffer=\"/content/data/gender_train.csv\", sep=\",\")"
      ],
      "execution_count": null,
      "outputs": []
    },
    {
      "cell_type": "code",
      "metadata": {
        "colab": {
          "base_uri": "https://localhost:8080/",
          "height": 204
        },
        "id": "Un8_KmoPf_1q",
        "outputId": "9c101e15-6752-419e-a83c-a57e03d0ee14"
      },
      "source": [
        "df = pd.merge(transactions, customers_gender_train, how = \"left\")\n",
        "df = pd.merge(df, tr_mcc_codes, how=\"inner\")\n",
        "df = pd.merge(df, tr_types, how=\"inner\")\n",
        "tr_day = df.tr_datetime.str.split(n = 1, expand = True)\n",
        "df[\"tr_day\"] = tr_day[0].astype(int)\n",
        "# df[\"tr_time\"] = tr_day[1]\n",
        "df = df.drop([\"tr_datetime\", \"mcc_description\", \"tr_description\", \"term_id\"], axis=1)\n",
        "df = df[df.gender.notnull()]\n",
        "df.head()"
      ],
      "execution_count": null,
      "outputs": [
        {
          "output_type": "execute_result",
          "data": {
            "text/html": [
              "<div>\n",
              "<style scoped>\n",
              "    .dataframe tbody tr th:only-of-type {\n",
              "        vertical-align: middle;\n",
              "    }\n",
              "\n",
              "    .dataframe tbody tr th {\n",
              "        vertical-align: top;\n",
              "    }\n",
              "\n",
              "    .dataframe thead th {\n",
              "        text-align: right;\n",
              "    }\n",
              "</style>\n",
              "<table border=\"1\" class=\"dataframe\">\n",
              "  <thead>\n",
              "    <tr style=\"text-align: right;\">\n",
              "      <th></th>\n",
              "      <th>customer_id</th>\n",
              "      <th>mcc_code</th>\n",
              "      <th>tr_type</th>\n",
              "      <th>amount</th>\n",
              "      <th>gender</th>\n",
              "      <th>tr_day</th>\n",
              "    </tr>\n",
              "  </thead>\n",
              "  <tbody>\n",
              "    <tr>\n",
              "      <th>0</th>\n",
              "      <td>39026145</td>\n",
              "      <td>4814</td>\n",
              "      <td>1030</td>\n",
              "      <td>-2245.92</td>\n",
              "      <td>1.0</td>\n",
              "      <td>0</td>\n",
              "    </tr>\n",
              "    <tr>\n",
              "      <th>1</th>\n",
              "      <td>39026145</td>\n",
              "      <td>4814</td>\n",
              "      <td>1030</td>\n",
              "      <td>-5614.79</td>\n",
              "      <td>1.0</td>\n",
              "      <td>6</td>\n",
              "    </tr>\n",
              "    <tr>\n",
              "      <th>2</th>\n",
              "      <td>39026145</td>\n",
              "      <td>4814</td>\n",
              "      <td>1030</td>\n",
              "      <td>-1122.96</td>\n",
              "      <td>1.0</td>\n",
              "      <td>8</td>\n",
              "    </tr>\n",
              "    <tr>\n",
              "      <th>3</th>\n",
              "      <td>39026145</td>\n",
              "      <td>4814</td>\n",
              "      <td>1030</td>\n",
              "      <td>-2245.92</td>\n",
              "      <td>1.0</td>\n",
              "      <td>11</td>\n",
              "    </tr>\n",
              "    <tr>\n",
              "      <th>4</th>\n",
              "      <td>39026145</td>\n",
              "      <td>4814</td>\n",
              "      <td>1030</td>\n",
              "      <td>-2245.92</td>\n",
              "      <td>1.0</td>\n",
              "      <td>11</td>\n",
              "    </tr>\n",
              "  </tbody>\n",
              "</table>\n",
              "</div>"
            ],
            "text/plain": [
              "   customer_id  mcc_code  tr_type   amount  gender  tr_day\n",
              "0     39026145      4814     1030 -2245.92     1.0       0\n",
              "1     39026145      4814     1030 -5614.79     1.0       6\n",
              "2     39026145      4814     1030 -1122.96     1.0       8\n",
              "3     39026145      4814     1030 -2245.92     1.0      11\n",
              "4     39026145      4814     1030 -2245.92     1.0      11"
            ]
          },
          "metadata": {
            "tags": []
          },
          "execution_count": 48
        }
      ]
    },
    {
      "cell_type": "code",
      "metadata": {
        "colab": {
          "base_uri": "https://localhost:8080/"
        },
        "id": "gmed5tbEf_1r",
        "outputId": "324651d4-fc2a-4687-d115-3bd22f8cc8df"
      },
      "source": [
        "df_copy = df[df.amount<0].groupby(\"tr_day\").amount.sum()\n",
        "df_copy.index = df_copy.index.astype(int)\n",
        "df_copy.sort_index()\n",
        "# df.copy.plot(figsize=(10, 5))"
      ],
      "execution_count": null,
      "outputs": [
        {
          "output_type": "execute_result",
          "data": {
            "text/plain": [
              "tr_day\n",
              "0     -66440564.28\n",
              "1     -36318167.99\n",
              "2     -57511150.68\n",
              "3     -69148579.78\n",
              "4     -77088269.80\n",
              "          ...     \n",
              "452   -85771613.52\n",
              "453   -71216809.80\n",
              "454   -53757244.73\n",
              "455   -81760922.17\n",
              "456   -64930480.51\n",
              "Name: amount, Length: 457, dtype: float64"
            ]
          },
          "metadata": {
            "tags": []
          },
          "execution_count": 49
        }
      ]
    },
    {
      "cell_type": "code",
      "metadata": {
        "id": "uhlQsps3f_1r"
      },
      "source": [
        "features = df.loc[:, df.columns != 'gender'].values[:, 1:]\n",
        "labels = df.loc[:, 'gender'].values"
      ],
      "execution_count": null,
      "outputs": []
    },
    {
      "cell_type": "code",
      "metadata": {
        "id": "zULr3rwVf_1s"
      },
      "source": [
        "def warn(*args, **kwargs):\n",
        "    pass\n",
        "import warnings\n",
        "warnings.warn = warn\n",
        "warnings.filterwarnings(\"ignore\", category=DeprecationWarning)\n",
        "from sklearn.preprocessing import MinMaxScaler\n",
        "scaler = MinMaxScaler((-1, 1))\n",
        "X = scaler.fit_transform(features)\n",
        "Y = labels"
      ],
      "execution_count": null,
      "outputs": []
    },
    {
      "cell_type": "code",
      "metadata": {
        "id": "Z0aIxa6yf_1s"
      },
      "source": [
        "from xgboost import XGBClassifier\n",
        "from sklearn.model_selection import train_test_split\n",
        "from sklearn.metrics import accuracy_score\n",
        "X_train, X_test, Y_train, Y_test = train_test_split(X, Y, test_size=0.33, random_state=7)"
      ],
      "execution_count": null,
      "outputs": []
    },
    {
      "cell_type": "code",
      "metadata": {
        "colab": {
          "base_uri": "https://localhost:8080/"
        },
        "id": "d5YrePtbf_1s",
        "outputId": "e6be70db-6b57-4b08-e1df-b0c947a4bd6b"
      },
      "source": [
        "model = XGBClassifier()\n",
        "model.fit(X_train, Y_train)"
      ],
      "execution_count": null,
      "outputs": [
        {
          "output_type": "execute_result",
          "data": {
            "text/plain": [
              "XGBClassifier(base_score=0.5, booster='gbtree', colsample_bylevel=1,\n",
              "              colsample_bynode=1, colsample_bytree=1, gamma=0,\n",
              "              learning_rate=0.1, max_delta_step=0, max_depth=3,\n",
              "              min_child_weight=1, missing=None, n_estimators=100, n_jobs=1,\n",
              "              nthread=None, objective='binary:logistic', random_state=0,\n",
              "              reg_alpha=0, reg_lambda=1, scale_pos_weight=1, seed=None,\n",
              "              silent=None, subsample=1, verbosity=1)"
            ]
          },
          "metadata": {
            "tags": []
          },
          "execution_count": 53
        }
      ]
    },
    {
      "cell_type": "code",
      "metadata": {
        "colab": {
          "base_uri": "https://localhost:8080/"
        },
        "id": "ACP7UoHff_1t",
        "outputId": "3fb758c9-e6b1-4840-9792-1a605f634970"
      },
      "source": [
        "Y_hat = [round(yhat) for yhat in model.predict(X_test)]\n",
        "print(accuracy_score(Y_test, Y_hat)) # Test set accuracy\n",
        "Y_hat = [round(yhat) for yhat in model.predict(X)]\n",
        "print(accuracy_score(Y, Y_hat)) # Full set accuracy"
      ],
      "execution_count": null,
      "outputs": [
        {
          "output_type": "stream",
          "text": [
            "0.6195607714021684\n",
            "0.6212342897518023\n"
          ],
          "name": "stdout"
        }
      ]
    },
    {
      "cell_type": "code",
      "metadata": {
        "colab": {
          "base_uri": "https://localhost:8080/",
          "height": 295
        },
        "id": "fRvVuUcVf_1t",
        "outputId": "21b19960-1c0e-4243-f637-c91cd4aa2a3d"
      },
      "source": [
        "from matplotlib import pyplot\n",
        "from xgboost import plot_importance\n",
        "plot_importance(model)\n",
        "pyplot.show()"
      ],
      "execution_count": null,
      "outputs": [
        {
          "output_type": "display_data",
          "data": {
            "image/png": "[encoded data removed]",
            "text/plain": [
              "<Figure size 432x288 with 1 Axes>"
            ]
          },
          "metadata": {
            "tags": [],
            "needs_background": "light"
          }
        }
      ]
    },
    {
      "cell_type": "code",
      "metadata": {
        "colab": {
          "base_uri": "https://localhost:8080/",
          "height": 198
        },
        "id": "NWgir-tvuWpr",
        "outputId": "75b6d3a1-f751-4ffd-988c-e19e4e7c5532"
      },
      "source": [
        "pd.DataFrame(model.feature_importances_, index=X_train.columns, \n",
        "             columns=['Importance'].sort_values(by='Importance'), ascending=False)[:10]"
      ],
      "execution_count": null,
      "outputs": [
        {
          "output_type": "error",
          "ename": "AttributeError",
          "evalue": "ignored",
          "traceback": [
            "\u001b[0;31m---------------------------------------------------------------------------\u001b[0m",
            "\u001b[0;31mAttributeError\u001b[0m                            Traceback (most recent call last)",
            "\u001b[0;32m<ipython-input-89-8e1e5125a7c5>\u001b[0m in \u001b[0;36m<module>\u001b[0;34m()\u001b[0m\n\u001b[0;32m----> 1\u001b[0;31m pd.DataFrame(model.feature_importances_, index=X_train.columns, \n\u001b[0m\u001b[1;32m      2\u001b[0m              columns=['Importance'].sort_values(by='Importance'), ascending=False)[:10]\n",
            "\u001b[0;31mAttributeError\u001b[0m: 'numpy.ndarray' object has no attribute 'columns'"
          ]
        }
      ]
    },
    {
      "cell_type": "markdown",
      "metadata": {
        "id": "_7FugFpQrggV"
      },
      "source": [
        "\n",
        "# Logistic Regression"
      ]
    },
    {
      "cell_type": "code",
      "metadata": {
        "id": "GnpsM5xIozIs"
      },
      "source": [
        "from sklearn.preprocessing import StandardScaler\n",
        "from sklearn.linear_model import LogisticRegression\n",
        "from sklearn.pipeline import Pipeline\n",
        "logit = LogisticRegression(C=1, solver='lbfgs', max_iter=500, random_state=7, n_jobs=4, multi_class=\"multinomial\")\n",
        "logit_pipe = Pipeline([('scaler', StandardScaler()), ('logit', logit)])"
      ],
      "execution_count": null,
      "outputs": []
    },
    {
      "cell_type": "code",
      "metadata": {
        "colab": {
          "base_uri": "https://localhost:8080/"
        },
        "id": "eLrhoSHnqbLj",
        "outputId": "f205e00d-4955-4b60-c0d6-565d5c1af3bf"
      },
      "source": [
        "logit_pipe.fit(X_train, Y_train)"
      ],
      "execution_count": null,
      "outputs": [
        {
          "output_type": "execute_result",
          "data": {
            "text/plain": [
              "Pipeline(memory=None,\n",
              "         steps=[('scaler',\n",
              "                 StandardScaler(copy=True, with_mean=True, with_std=True)),\n",
              "                ('logit',\n",
              "                 LogisticRegression(C=1, class_weight=None, dual=False,\n",
              "                                    fit_intercept=True, intercept_scaling=1,\n",
              "                                    l1_ratio=None, max_iter=500,\n",
              "                                    multi_class='multinomial', n_jobs=4,\n",
              "                                    penalty='l2', random_state=7,\n",
              "                                    solver='lbfgs', tol=0.0001, verbose=0,\n",
              "                                    warm_start=False))],\n",
              "         verbose=False)"
            ]
          },
          "metadata": {
            "tags": []
          },
          "execution_count": 63
        }
      ]
    },
    {
      "cell_type": "code",
      "metadata": {
        "colab": {
          "base_uri": "https://localhost:8080/"
        },
        "id": "QHHylsBBrDim",
        "outputId": "7e820588-e363-4595-ab34-0cdc86e86722"
      },
      "source": [
        "logit_val_pred = logit_pipe.predict(X_test)\n",
        "accuracy_score(Y_test, logit_val_pred)"
      ],
      "execution_count": null,
      "outputs": [
        {
          "output_type": "execute_result",
          "data": {
            "text/plain": [
              "0.5726030025905297"
            ]
          },
          "metadata": {
            "tags": []
          },
          "execution_count": 64
        }
      ]
    },
    {
      "cell_type": "code",
      "metadata": {
        "id": "DwSGNghlrtgE"
      },
      "source": [
        ""
      ],
      "execution_count": null,
      "outputs": []
    },
    {
      "cell_type": "code",
      "metadata": {
        "id": "JYdyu_fTrzD8"
      },
      "source": [
        ""
      ],
      "execution_count": null,
      "outputs": []
    },
    {
      "cell_type": "markdown",
      "metadata": {
        "id": "ECW3zZ69r3F9"
      },
      "source": [
        "# Random Forest"
      ]
    },
    {
      "cell_type": "code",
      "metadata": {
        "id": "WosZh5xcsBhl"
      },
      "source": [
        "from sklearn.ensemble import RandomForestClassifier\n",
        "first_forest = RandomForestClassifier(n_estimators=100, random_state=7, \n",
        "                                       n_jobs=4)"
      ],
      "execution_count": null,
      "outputs": []
    },
    {
      "cell_type": "code",
      "metadata": {
        "colab": {
          "base_uri": "https://localhost:8080/"
        },
        "id": "E9RXixglsZm4",
        "outputId": "b79d3b61-36c9-4e5e-e554-d75bd903fcff"
      },
      "source": [
        "first_forest.fit(X_train, Y_train)"
      ],
      "execution_count": null,
      "outputs": [
        {
          "output_type": "execute_result",
          "data": {
            "text/plain": [
              "RandomForestClassifier(bootstrap=True, ccp_alpha=0.0, class_weight=None,\n",
              "                       criterion='gini', max_depth=None, max_features='auto',\n",
              "                       max_leaf_nodes=None, max_samples=None,\n",
              "                       min_impurity_decrease=0.0, min_impurity_split=None,\n",
              "                       min_samples_leaf=1, min_samples_split=2,\n",
              "                       min_weight_fraction_leaf=0.0, n_estimators=100, n_jobs=4,\n",
              "                       oob_score=False, random_state=7, verbose=0,\n",
              "                       warm_start=False)"
            ]
          },
          "metadata": {
            "tags": []
          },
          "execution_count": 60
        }
      ]
    },
    {
      "cell_type": "code",
      "metadata": {
        "colab": {
          "base_uri": "https://localhost:8080/"
        },
        "id": "thptCblksh0D",
        "outputId": "f3569f3d-03f3-450d-ff10-5397c5699eed"
      },
      "source": [
        "forest_val_pred = first_forest.predict(X_test)\n",
        "accuracy_score(Y_test, forest_val_pred)"
      ],
      "execution_count": null,
      "outputs": [
        {
          "output_type": "execute_result",
          "data": {
            "text/plain": [
              "0.6229441142458932"
            ]
          },
          "metadata": {
            "tags": []
          },
          "execution_count": 65
        }
      ]
    },
    {
      "cell_type": "code",
      "metadata": {
        "colab": {
          "base_uri": "https://localhost:8080/",
          "height": 181
        },
        "id": "uN8kIJpBtfPL",
        "outputId": "d8c155f7-4580-4bd9-fbc0-6f0c912694a7"
      },
      "source": [
        "pd.DataFrame(first_forest.feature_importances_, index=X_train.columns, \n",
        "             columns=['Importance'].sort_values(by='Importance'), ascending=False)[:10]"
      ],
      "execution_count": null,
      "outputs": [
        {
          "output_type": "error",
          "ename": "AttributeError",
          "evalue": "ignored",
          "traceback": [
            "\u001b[0;31m---------------------------------------------------------------------------\u001b[0m",
            "\u001b[0;31mAttributeError\u001b[0m                            Traceback (most recent call last)",
            "\u001b[0;32m<ipython-input-66-93a6de3fcd06>\u001b[0m in \u001b[0;36m<module>\u001b[0;34m()\u001b[0m\n\u001b[0;32m----> 1\u001b[0;31m pd.DataFrame(first_forest.feature_importances_, index=X_train.columns, \n\u001b[0m\u001b[1;32m      2\u001b[0m              columns=['Importance'].sort_values(by='Importance'), ascending=False)[:10]\n",
            "\u001b[0;31mAttributeError\u001b[0m: 'numpy.ndarray' object has no attribute 'columns'"
          ]
        }
      ]
    },
    {
      "cell_type": "markdown",
      "metadata": {
        "id": "oTThPgwEuyz0"
      },
      "source": [
        "# LGBM Classifier"
      ]
    },
    {
      "cell_type": "code",
      "metadata": {
        "id": "czoOECoFu549"
      },
      "source": [
        "lgb_clf = LGBMClassifier(random_state=17)"
      ],
      "execution_count": null,
      "outputs": []
    },
    {
      "cell_type": "code",
      "metadata": {
        "colab": {
          "base_uri": "https://localhost:8080/"
        },
        "id": "__JI9iZVvDTn",
        "outputId": "b86ada60-49dd-41e7-b582-f1d29fd42959"
      },
      "source": [
        "lgb_clf.fit(X_train, Y_train)"
      ],
      "execution_count": null,
      "outputs": [
        {
          "output_type": "execute_result",
          "data": {
            "text/plain": [
              "LGBMClassifier(boosting_type='gbdt', class_weight=None, colsample_bytree=1.0,\n",
              "               importance_type='split', learning_rate=0.1, max_depth=-1,\n",
              "               min_child_samples=20, min_child_weight=0.001, min_split_gain=0.0,\n",
              "               n_estimators=100, n_jobs=-1, num_leaves=31, objective=None,\n",
              "               random_state=17, reg_alpha=0.0, reg_lambda=0.0, silent=True,\n",
              "               subsample=1.0, subsample_for_bin=200000, subsample_freq=0)"
            ]
          },
          "metadata": {
            "tags": []
          },
          "execution_count": 73
        }
      ]
    },
    {
      "cell_type": "code",
      "metadata": {
        "colab": {
          "base_uri": "https://localhost:8080/"
        },
        "id": "BZWGUePuvHGQ",
        "outputId": "31a7f9a9-b763-43df-8e95-d8d1d07f3fe7"
      },
      "source": [
        "accuracy_score(Y_test, lgb_clf.predict(X_test))"
      ],
      "execution_count": null,
      "outputs": [
        {
          "output_type": "execute_result",
          "data": {
            "text/plain": [
              "0.6336597165061683"
            ]
          },
          "metadata": {
            "tags": []
          },
          "execution_count": 75
        }
      ]
    },
    {
      "cell_type": "markdown",
      "metadata": {
        "id": "SrBDBf3rvyZ1"
      },
      "source": [
        "# Hyper-Param Tuning"
      ]
    },
    {
      "cell_type": "markdown",
      "metadata": {
        "id": "ehn0kW3GzoWy"
      },
      "source": [
        "https://www.kaggle.com/kashnitsky/topic-10-practice-with-logit-rf-and-lightgbm"
      ]
    },
    {
      "cell_type": "code",
      "metadata": {
        "id": "g8CTrQguv6pN"
      },
      "source": [
        "param_grid = {'num_leaves': [7, 15, 31, 63, 127, 255], \n",
        "              'max_depth': [3, 4, 5, 6, 7, 8, -1]}"
      ],
      "execution_count": null,
      "outputs": []
    },
    {
      "cell_type": "code",
      "metadata": {
        "id": "MaJEyAPVwBs9"
      },
      "source": [
        "grid_searcher = GridSearchCV(estimator=lgb_clf, param_grid=param_grid, \n",
        "                             cv=5, verbose=1, n_jobs=4)"
      ],
      "execution_count": null,
      "outputs": []
    },
    {
      "cell_type": "code",
      "metadata": {
        "colab": {
          "base_uri": "https://localhost:8080/"
        },
        "id": "ufuvyisvwGR_",
        "outputId": "d0dc6224-1601-4dc0-d781-fc73dbe03bc9"
      },
      "source": [
        "grid_searcher.fit(X_train, Y_train)"
      ],
      "execution_count": null,
      "outputs": [
        {
          "output_type": "stream",
          "text": [
            "Fitting 5 folds for each of 42 candidates, totalling 210 fits\n"
          ],
          "name": "stdout"
        },
        {
          "output_type": "stream",
          "text": [
            "[Parallel(n_jobs=4)]: Using backend LokyBackend with 4 concurrent workers.\n",
            "[Parallel(n_jobs=4)]: Done  42 tasks      | elapsed:  1.3min\n",
            "[Parallel(n_jobs=4)]: Done 192 tasks      | elapsed:  6.9min\n",
            "[Parallel(n_jobs=4)]: Done 210 out of 210 | elapsed:  7.7min finished\n"
          ],
          "name": "stderr"
        },
        {
          "output_type": "execute_result",
          "data": {
            "text/plain": [
              "GridSearchCV(cv=5, error_score=nan,\n",
              "             estimator=LGBMClassifier(boosting_type='gbdt', class_weight=None,\n",
              "                                      colsample_bytree=1.0,\n",
              "                                      importance_type='split',\n",
              "                                      learning_rate=0.1, max_depth=-1,\n",
              "                                      min_child_samples=20,\n",
              "                                      min_child_weight=0.001,\n",
              "                                      min_split_gain=0.0, n_estimators=100,\n",
              "                                      n_jobs=-1, num_leaves=31, objective=None,\n",
              "                                      random_state=17, reg_alpha=0.0,\n",
              "                                      reg_lambda=0.0, silent=True,\n",
              "                                      subsample=1.0, subsample_for_bin=200000,\n",
              "                                      subsample_freq=0),\n",
              "             iid='deprecated', n_jobs=4,\n",
              "             param_grid={'max_depth': [3, 4, 5, 6, 7, 8, -1],\n",
              "                         'num_leaves': [7, 15, 31, 63, 127, 255]},\n",
              "             pre_dispatch='2*n_jobs', refit=True, return_train_score=False,\n",
              "             scoring=None, verbose=1)"
            ]
          },
          "metadata": {
            "tags": []
          },
          "execution_count": 86
        }
      ]
    },
    {
      "cell_type": "code",
      "metadata": {
        "colab": {
          "base_uri": "https://localhost:8080/"
        },
        "id": "V5LMpPOcwJXo",
        "outputId": "4836d418-731b-4740-e761-c7adfd9b0a24"
      },
      "source": [
        "grid_searcher.best_params_, grid_searcher.best_score_"
      ],
      "execution_count": null,
      "outputs": [
        {
          "output_type": "execute_result",
          "data": {
            "text/plain": [
              "({'max_depth': -1, 'num_leaves': 255}, 0.6405459854971951)"
            ]
          },
          "metadata": {
            "tags": []
          },
          "execution_count": 87
        }
      ]
    },
    {
      "cell_type": "code",
      "metadata": {
        "colab": {
          "base_uri": "https://localhost:8080/"
        },
        "id": "Yv-kyjsDwHTX",
        "outputId": "e57a1831-0982-4f0a-e4fe-6496916da60c"
      },
      "source": [
        "accuracy_score(Y_test, grid_searcher.predict(X_test))"
      ],
      "execution_count": null,
      "outputs": [
        {
          "output_type": "execute_result",
          "data": {
            "text/plain": [
              "0.6407546369471138"
            ]
          },
          "metadata": {
            "tags": []
          },
          "execution_count": 88
        }
      ]
    },
    {
      "cell_type": "code",
      "metadata": {
        "id": "o71GC0DoxIu8"
      },
      "source": [
        ""
      ],
      "execution_count": null,
      "outputs": []
    }
  ]
}