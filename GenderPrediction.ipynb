{
 "cells": [
  {
   "cell_type": "markdown",
   "metadata": {
    "toc": true
   },
   "source": [
    "<h1>Table of Contents<span class=\"tocSkip\"></span></h1>\n",
    "<div class=\"toc\"><ul class=\"toc-item\"></ul></div>"
   ]
  },
  {
   "cell_type": "code",
   "execution_count": 141,
   "metadata": {},
   "outputs": [],
   "source": [
    "import pandas as pd\n",
    "import numpy as np\n",
    "import xgboost as xgb\n",
    "import os, sys"
   ]
  },
  {
   "cell_type": "code",
   "execution_count": 142,
   "metadata": {},
   "outputs": [],
   "source": [
    "tr_mcc_codes = pd.read_csv(filepath_or_buffer=\"data/tr_mcc_codes.csv\", sep = ';')\n",
    "tr_types = pd.read_csv(filepath_or_buffer=\"data/tr_types.csv\", sep=';')\n",
    "transactions = pd.read_csv(filepath_or_buffer=\"data/transactions.csv\", sep=\",\", nrows=1000000)\n",
    "customers_gender_train = pd.read_csv(filepath_or_buffer=\"data/gender_train.csv\", sep=\",\")"
   ]
  },
  {
   "cell_type": "code",
   "execution_count": 153,
   "metadata": {},
   "outputs": [
    {
     "data": {
      "text/html": [
       "<div>\n",
       "<style scoped>\n",
       "    .dataframe tbody tr th:only-of-type {\n",
       "        vertical-align: middle;\n",
       "    }\n",
       "\n",
       "    .dataframe tbody tr th {\n",
       "        vertical-align: top;\n",
       "    }\n",
       "\n",
       "    .dataframe thead th {\n",
       "        text-align: right;\n",
       "    }\n",
       "</style>\n",
       "<table border=\"1\" class=\"dataframe\">\n",
       "  <thead>\n",
       "    <tr style=\"text-align: right;\">\n",
       "      <th></th>\n",
       "      <th>customer_id</th>\n",
       "      <th>mcc_code</th>\n",
       "      <th>tr_type</th>\n",
       "      <th>amount</th>\n",
       "      <th>gender</th>\n",
       "      <th>tr_day</th>\n",
       "    </tr>\n",
       "  </thead>\n",
       "  <tbody>\n",
       "    <tr>\n",
       "      <th>0</th>\n",
       "      <td>39026145</td>\n",
       "      <td>4814</td>\n",
       "      <td>1030</td>\n",
       "      <td>-2245.92</td>\n",
       "      <td>1.0</td>\n",
       "      <td>0</td>\n",
       "    </tr>\n",
       "    <tr>\n",
       "      <th>1</th>\n",
       "      <td>39026145</td>\n",
       "      <td>4814</td>\n",
       "      <td>1030</td>\n",
       "      <td>-5614.79</td>\n",
       "      <td>1.0</td>\n",
       "      <td>6</td>\n",
       "    </tr>\n",
       "    <tr>\n",
       "      <th>2</th>\n",
       "      <td>39026145</td>\n",
       "      <td>4814</td>\n",
       "      <td>1030</td>\n",
       "      <td>-1122.96</td>\n",
       "      <td>1.0</td>\n",
       "      <td>8</td>\n",
       "    </tr>\n",
       "    <tr>\n",
       "      <th>3</th>\n",
       "      <td>39026145</td>\n",
       "      <td>4814</td>\n",
       "      <td>1030</td>\n",
       "      <td>-2245.92</td>\n",
       "      <td>1.0</td>\n",
       "      <td>11</td>\n",
       "    </tr>\n",
       "    <tr>\n",
       "      <th>4</th>\n",
       "      <td>39026145</td>\n",
       "      <td>4814</td>\n",
       "      <td>1030</td>\n",
       "      <td>-2245.92</td>\n",
       "      <td>1.0</td>\n",
       "      <td>11</td>\n",
       "    </tr>\n",
       "  </tbody>\n",
       "</table>\n",
       "</div>"
      ],
      "text/plain": [
       "   customer_id  mcc_code  tr_type   amount  gender  tr_day\n",
       "0     39026145      4814     1030 -2245.92     1.0       0\n",
       "1     39026145      4814     1030 -5614.79     1.0       6\n",
       "2     39026145      4814     1030 -1122.96     1.0       8\n",
       "3     39026145      4814     1030 -2245.92     1.0      11\n",
       "4     39026145      4814     1030 -2245.92     1.0      11"
      ]
     },
     "execution_count": 153,
     "metadata": {},
     "output_type": "execute_result"
    }
   ],
   "source": [
    "df = pd.merge(transactions, customers_gender_train, how = \"left\")\n",
    "df = pd.merge(df, tr_mcc_codes, how=\"inner\")\n",
    "df = pd.merge(df, tr_types, how=\"inner\")\n",
    "tr_day = df.tr_datetime.str.split(n = 1, expand = True)\n",
    "df[\"tr_day\"] = tr_day[0].astype(int)\n",
    "# df[\"tr_time\"] = tr_day[1]\n",
    "df = df.drop([\"tr_datetime\", \"mcc_description\", \"tr_description\", \"term_id\"], axis=1)\n",
    "df = df[df.gender.notnull()]\n",
    "df.head()"
   ]
  },
  {
   "cell_type": "code",
   "execution_count": 144,
   "metadata": {},
   "outputs": [
    {
     "data": {
      "text/plain": [
       "tr_day\n",
       "0     -66440564.28\n",
       "1     -36318167.99\n",
       "2     -57511150.68\n",
       "3     -69148579.78\n",
       "4     -77088269.80\n",
       "          ...     \n",
       "452   -85771613.52\n",
       "453   -71216809.80\n",
       "454   -53757244.73\n",
       "455   -81760922.17\n",
       "456   -64930480.51\n",
       "Name: amount, Length: 457, dtype: float64"
      ]
     },
     "execution_count": 144,
     "metadata": {},
     "output_type": "execute_result"
    }
   ],
   "source": [
    "df_copy = df[df.amount<0].groupby(\"tr_day\").amount.sum()\n",
    "df_copy.index = df_copy.index.astype(int)\n",
    "df_copy.sort_index()\n",
    "# df.copy.plot(figsize=(10, 5))"
   ]
  },
  {
   "cell_type": "code",
   "execution_count": 154,
   "metadata": {},
   "outputs": [],
   "source": [
    "features = df.loc[:, df.columns != 'gender'].values[:, 1:]\n",
    "labels = df.loc[:, 'gender'].values"
   ]
  },
  {
   "cell_type": "code",
   "execution_count": 155,
   "metadata": {},
   "outputs": [
    {
     "data": {
      "text/plain": [
       "array([[ 4.81400000e+03,  1.03000000e+03, -2.24592000e+03,\n",
       "         0.00000000e+00],\n",
       "       [ 4.81400000e+03,  1.03000000e+03, -5.61479000e+03,\n",
       "         6.00000000e+00],\n",
       "       [ 4.81400000e+03,  1.03000000e+03, -1.12296000e+03,\n",
       "         8.00000000e+00],\n",
       "       ...,\n",
       "       [ 3.00000000e+03,  6.00000000e+03,  1.49164742e+06,\n",
       "         2.61000000e+02],\n",
       "       [ 3.00000000e+03,  6.00000000e+03,  1.49838517e+06,\n",
       "         2.63000000e+02],\n",
       "       [ 3.00000000e+03,  6.00000000e+03,  5.70417690e+05,\n",
       "         2.70000000e+02]])"
      ]
     },
     "execution_count": 155,
     "metadata": {},
     "output_type": "execute_result"
    }
   ],
   "source": [
    "features"
   ]
  },
  {
   "cell_type": "code",
   "execution_count": 156,
   "metadata": {},
   "outputs": [],
   "source": [
    "def warn(*args, **kwargs):\n",
    "    pass\n",
    "import warnings\n",
    "warnings.warn = warn\n",
    "warnings.filterwarnings(\"ignore\", category=DeprecationWarning)\n",
    "from sklearn.preprocessing import MinMaxScaler\n",
    "scaler = MinMaxScaler((-1, 1))\n",
    "X = scaler.fit_transform(features)\n",
    "Y = labels"
   ]
  },
  {
   "cell_type": "code",
   "execution_count": 148,
   "metadata": {},
   "outputs": [
    {
     "data": {
      "text/plain": [
       "array([1., 1., 1., ..., 0., 0., 0.])"
      ]
     },
     "execution_count": 148,
     "metadata": {},
     "output_type": "execute_result"
    }
   ],
   "source": [
    "Y"
   ]
  },
  {
   "cell_type": "code",
   "execution_count": 157,
   "metadata": {},
   "outputs": [],
   "source": [
    "from xgboost import XGBClassifier\n",
    "from sklearn.model_selection import train_test_split\n",
    "from sklearn.metrics import accuracy_score\n",
    "X_train, X_test, Y_train, Y_test = train_test_split(X, Y, test_size=0.33, random_state=7)"
   ]
  },
  {
   "cell_type": "code",
   "execution_count": 158,
   "metadata": {},
   "outputs": [
    {
     "name": "stdout",
     "output_type": "stream",
     "text": [
      "[16:58:48] WARNING: C:/Users/Administrator/workspace/xgboost-win64_release_1.3.0/src/learner.cc:1061: Starting in XGBoost 1.3.0, the default evaluation metric used with the objective 'binary:logistic' was changed from 'error' to 'logloss'. Explicitly set eval_metric if you'd like to restore the old behavior.\n"
     ]
    },
    {
     "data": {
      "text/plain": [
       "XGBClassifier(base_score=0.5, booster='gbtree', colsample_bylevel=1,\n",
       "              colsample_bynode=1, colsample_bytree=1, gamma=0, gpu_id=-1,\n",
       "              importance_type='gain', interaction_constraints='',\n",
       "              learning_rate=0.300000012, max_delta_step=0, max_depth=6,\n",
       "              min_child_weight=1, missing=nan, monotone_constraints='()',\n",
       "              n_estimators=100, n_jobs=4, num_parallel_tree=1, random_state=0,\n",
       "              reg_alpha=0, reg_lambda=1, scale_pos_weight=1, subsample=1,\n",
       "              tree_method='exact', validate_parameters=1, verbosity=None)"
      ]
     },
     "execution_count": 158,
     "metadata": {},
     "output_type": "execute_result"
    }
   ],
   "source": [
    "model = XGBClassifier()\n",
    "model.fit(X_train, Y_train)"
   ]
  },
  {
   "cell_type": "code",
   "execution_count": 160,
   "metadata": {},
   "outputs": [
    {
     "name": "stdout",
     "output_type": "stream",
     "text": [
      "0.6376490312025006\n",
      "0.6474821942188287\n"
     ]
    }
   ],
   "source": [
    "Y_hat = [round(yhat) for yhat in model.predict(X_test)]\n",
    "print(accuracy_score(Y_test, Y_hat)) # Test set accuracy\n",
    "Y_hat = [round(yhat) for yhat in model.predict(X)]\n",
    "print(accuracy_score(Y, Y_hat)) # Full set accuracy"
   ]
  },
  {
   "cell_type": "code",
   "execution_count": null,
   "metadata": {},
   "outputs": [],
   "source": [
    "print(model.feature_importances_)"
   ]
  },
  {
   "cell_type": "code",
   "execution_count": null,
   "metadata": {},
   "outputs": [],
   "source": [
    "from matplotlib import pyplot\n",
    "from xgboost import plot_importance\n",
    "plot_importance(model)\n",
    "pyplot.show()"
   ]
  }
 ],
 "metadata": {
  "kernelspec": {
   "display_name": "Python 3",
   "language": "python",
   "name": "python3"
  },
  "language_info": {
   "codemirror_mode": {
    "name": "ipython",
    "version": 3
   },
   "file_extension": ".py",
   "mimetype": "text/x-python",
   "name": "python",
   "nbconvert_exporter": "python",
   "pygments_lexer": "ipython3",
   "version": "3.8.5"
  },
  "toc": {
   "base_numbering": 1,
   "nav_menu": {},
   "number_sections": true,
   "sideBar": true,
   "skip_h1_title": false,
   "title_cell": "Table of Contents",
   "title_sidebar": "Contents",
   "toc_cell": true,
   "toc_position": {},
   "toc_section_display": true,
   "toc_window_display": false
  }
 },
 "nbformat": 4,
 "nbformat_minor": 4
}
